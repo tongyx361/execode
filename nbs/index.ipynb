{
 "cells": [
  {
   "cell_type": "code",
   "execution_count": null,
   "metadata": {},
   "outputs": [],
   "source": [
    "%load_ext autoreload\n",
    "%autoreload 2"
   ]
  },
  {
   "cell_type": "markdown",
   "metadata": {},
   "source": [
    "# Execode\n",
    "\n",
    "> Execute code in text efficiently and safely.\n"
   ]
  },
  {
   "cell_type": "markdown",
   "metadata": {},
   "source": [
    "## Installation\n",
    "\n",
    "For common users/developers, please just run the following command the install the package:\n",
    "\n",
    "```shell\n",
    "pip install -e \".\"\n",
    "```\n",
    "\n",
    "For intended contributors, we recommend installing the package with the `dev` extras:\n",
    "\n",
    "```shell\n",
    "pip install -e \".[dev]\"\n",
    "pre-commit install\n",
    "```\n"
   ]
  },
  {
   "cell_type": "markdown",
   "metadata": {},
   "source": [
    "## API Reference\n"
   ]
  },
  {
   "cell_type": "code",
   "execution_count": null,
   "metadata": {},
   "outputs": [],
   "source": [
    "# | hide\n",
    "from nbdev.showdoc import *"
   ]
  },
  {
   "cell_type": "code",
   "execution_count": null,
   "metadata": {},
   "outputs": [],
   "source": [
    "from execode import *"
   ]
  },
  {
   "cell_type": "code",
   "execution_count": null,
   "metadata": {},
   "outputs": [
    {
     "data": {
      "text/markdown": [
       "---\n",
       "\n",
       "[source](https://github.com/tongyx361/execode/blob/main/execode/core.py#LNone){target=\"_blank\" style=\"float:right; font-size:smaller\"}\n",
       "\n",
       "### CodeExecCfg\n",
       "\n",
       ">      CodeExecCfg (input_begin:str='```python', input_end:str='```',\n",
       ">                   output_code_prefix:str='print(',\n",
       ">                   output_begin:str='```output', output_end:str='```',\n",
       ">                   timeout:int=5, n_call_max:int=2,\n",
       ">                   trunc_len:tuple[int,int]=(50, 50), elipsis:str='...')\n",
       "\n",
       "*Configuration for code execution.*\n",
       "\n",
       "|    | **Type** | **Default** | **Details** |\n",
       "| -- | -------- | ----------- | ----------- |\n",
       "| input_begin | str | ```python |  |\n",
       "| input_end | str | ``` |  |\n",
       "| output_code_prefix | str | print( | Prefix of code that will be executed to display the output. |\n",
       "| output_begin | str | ```output |  |\n",
       "| output_end | str | ``` |  |\n",
       "| timeout | int | 5 | Timeout in seconds for code execution. |\n",
       "| n_call_max | int | 2 | The maximum number of calls to the code execution function. |\n",
       "| trunc_len | tuple | (50, 50) | The maximum lengths to truncate the output into the beginning and end. |\n",
       "| elipsis | str | ... | The elipsis to use when truncating the output. |"
      ],
      "text/plain": [
       "---\n",
       "\n",
       "[source](https://github.com/tongyx361/execode/blob/main/execode/core.py#LNone){target=\"_blank\" style=\"float:right; font-size:smaller\"}\n",
       "\n",
       "### CodeExecCfg\n",
       "\n",
       ">      CodeExecCfg (input_begin:str='```python', input_end:str='```',\n",
       ">                   output_code_prefix:str='print(',\n",
       ">                   output_begin:str='```output', output_end:str='```',\n",
       ">                   timeout:int=5, n_call_max:int=2,\n",
       ">                   trunc_len:tuple[int,int]=(50, 50), elipsis:str='...')\n",
       "\n",
       "*Configuration for code execution.*\n",
       "\n",
       "|    | **Type** | **Default** | **Details** |\n",
       "| -- | -------- | ----------- | ----------- |\n",
       "| input_begin | str | ```python |  |\n",
       "| input_end | str | ``` |  |\n",
       "| output_code_prefix | str | print( | Prefix of code that will be executed to display the output. |\n",
       "| output_begin | str | ```output |  |\n",
       "| output_end | str | ``` |  |\n",
       "| timeout | int | 5 | Timeout in seconds for code execution. |\n",
       "| n_call_max | int | 2 | The maximum number of calls to the code execution function. |\n",
       "| trunc_len | tuple | (50, 50) | The maximum lengths to truncate the output into the beginning and end. |\n",
       "| elipsis | str | ... | The elipsis to use when truncating the output. |"
      ]
     },
     "execution_count": null,
     "metadata": {},
     "output_type": "execute_result"
    }
   ],
   "source": [
    "show_doc(CodeExecCfg, title_level=3)"
   ]
  },
  {
   "cell_type": "code",
   "execution_count": null,
   "metadata": {},
   "outputs": [
    {
     "data": {
      "text/markdown": [
       "---\n",
       "\n",
       "[source](https://github.com/tongyx361/execode/blob/main/execode/core.py#LNone){target=\"_blank\" style=\"float:right; font-size:smaller\"}\n",
       "\n",
       "#### CodeExecCfg.load_from_id_or_path\n",
       "\n",
       ">      CodeExecCfg.load_from_id_or_path (tool_config:str='python')\n",
       "\n",
       "*Load the configuration from the ID or path.*\n",
       "\n",
       "|    | **Type** | **Default** | **Details** |\n",
       "| -- | -------- | ----------- | ----------- |\n",
       "| tool_config | str | python | ID / Path to file of the code executeion configuration. |\n",
       "| **Returns** | **CodeExecCfg** |  | **The code execution configuration object.** |"
      ],
      "text/plain": [
       "---\n",
       "\n",
       "[source](https://github.com/tongyx361/execode/blob/main/execode/core.py#LNone){target=\"_blank\" style=\"float:right; font-size:smaller\"}\n",
       "\n",
       "#### CodeExecCfg.load_from_id_or_path\n",
       "\n",
       ">      CodeExecCfg.load_from_id_or_path (tool_config:str='python')\n",
       "\n",
       "*Load the configuration from the ID or path.*\n",
       "\n",
       "|    | **Type** | **Default** | **Details** |\n",
       "| -- | -------- | ----------- | ----------- |\n",
       "| tool_config | str | python | ID / Path to file of the code executeion configuration. |\n",
       "| **Returns** | **CodeExecCfg** |  | **The code execution configuration object.** |"
      ]
     },
     "execution_count": null,
     "metadata": {},
     "output_type": "execute_result"
    }
   ],
   "source": [
    "show_doc(CodeExecCfg.load_from_id_or_path, title_level=4)"
   ]
  },
  {
   "cell_type": "code",
   "execution_count": null,
   "metadata": {},
   "outputs": [
    {
     "data": {
      "text/markdown": [
       "---\n",
       "\n",
       "[source](https://github.com/tongyx361/execode/blob/main/execode/core.py#LNone){target=\"_blank\" style=\"float:right; font-size:smaller\"}\n",
       "\n",
       "#### CodeExecCfg.no_cells_todo\n",
       "\n",
       ">      CodeExecCfg.no_cells_todo (text:str)\n",
       "\n",
       "*Judge if there are no code cells to execute.*"
      ],
      "text/plain": [
       "---\n",
       "\n",
       "[source](https://github.com/tongyx361/execode/blob/main/execode/core.py#LNone){target=\"_blank\" style=\"float:right; font-size:smaller\"}\n",
       "\n",
       "#### CodeExecCfg.no_cells_todo\n",
       "\n",
       ">      CodeExecCfg.no_cells_todo (text:str)\n",
       "\n",
       "*Judge if there are no code cells to execute.*"
      ]
     },
     "execution_count": null,
     "metadata": {},
     "output_type": "execute_result"
    }
   ],
   "source": [
    "show_doc(CodeExecCfg.no_cells_todo, title_level=4)"
   ]
  },
  {
   "cell_type": "code",
   "execution_count": null,
   "metadata": {},
   "outputs": [
    {
     "data": {
      "text/markdown": [
       "---\n",
       "\n",
       "[source](https://github.com/tongyx361/execode/blob/main/execode/core.py#LNone){target=\"_blank\" style=\"float:right; font-size:smaller\"}\n",
       "\n",
       "#### CodeExecCfg.extract_cells\n",
       "\n",
       ">      CodeExecCfg.extract_cells (text:str)\n",
       "\n",
       "*Extract code cells from the text.*\n",
       "\n",
       "|    | **Type** | **Details** |\n",
       "| -- | -------- | ----------- |\n",
       "| text | str | The text to extract code cells from. |\n",
       "| **Returns** | **list** | **The extracted code cells.** |"
      ],
      "text/plain": [
       "---\n",
       "\n",
       "[source](https://github.com/tongyx361/execode/blob/main/execode/core.py#LNone){target=\"_blank\" style=\"float:right; font-size:smaller\"}\n",
       "\n",
       "#### CodeExecCfg.extract_cells\n",
       "\n",
       ">      CodeExecCfg.extract_cells (text:str)\n",
       "\n",
       "*Extract code cells from the text.*\n",
       "\n",
       "|    | **Type** | **Details** |\n",
       "| -- | -------- | ----------- |\n",
       "| text | str | The text to extract code cells from. |\n",
       "| **Returns** | **list** | **The extracted code cells.** |"
      ]
     },
     "execution_count": null,
     "metadata": {},
     "output_type": "execute_result"
    }
   ],
   "source": [
    "show_doc(CodeExecCfg.extract_cells, title_level=4)"
   ]
  },
  {
   "cell_type": "code",
   "execution_count": null,
   "metadata": {},
   "outputs": [
    {
     "data": {
      "text/markdown": [
       "---\n",
       "\n",
       "[source](https://github.com/tongyx361/execode/blob/main/execode/core.py#LNone){target=\"_blank\" style=\"float:right; font-size:smaller\"}\n",
       "\n",
       "#### CodeExecCfg.wrap_output\n",
       "\n",
       ">      CodeExecCfg.wrap_output (output:str)\n",
       "\n",
       "*Return `f\"{self.output_begin}\\n{output}\\n{self.output_begin}\"`*"
      ],
      "text/plain": [
       "---\n",
       "\n",
       "[source](https://github.com/tongyx361/execode/blob/main/execode/core.py#LNone){target=\"_blank\" style=\"float:right; font-size:smaller\"}\n",
       "\n",
       "#### CodeExecCfg.wrap_output\n",
       "\n",
       ">      CodeExecCfg.wrap_output (output:str)\n",
       "\n",
       "*Return `f\"{self.output_begin}\\n{output}\\n{self.output_begin}\"`*"
      ]
     },
     "execution_count": null,
     "metadata": {},
     "output_type": "execute_result"
    }
   ],
   "source": [
    "show_doc(CodeExecCfg.wrap_output, title_level=4)"
   ]
  },
  {
   "cell_type": "code",
   "execution_count": null,
   "metadata": {},
   "outputs": [
    {
     "data": {
      "text/markdown": [
       "---\n",
       "\n",
       "[source](https://github.com/tongyx361/execode/blob/main/execode/core.py#LNone){target=\"_blank\" style=\"float:right; font-size:smaller\"}\n",
       "\n",
       "### exec_cells\n",
       "\n",
       ">      exec_cells (cells:list[str])\n",
       "\n",
       "*Execute the code cells like a notebook and return the stdout and stderr of the last cell.\n",
       "Modified from\n",
       "- https://github.com/Kipok/NeMo-Skills/blob/6a909ec0974340b02a1083dce90e79bea30ecb60/nemo_skills/code_execution/sandbox.py#L168-L233\n",
       "- https://github.com/deepseek-ai/DeepSeek-Math/blob/b8b0f8ce093d80bf8e9a641e44142f06d092c305/evaluation/infer/run_tool_integrated_eval.py#L163-L180*\n",
       "\n",
       "|    | **Type** | **Details** |\n",
       "| -- | -------- | ----------- |\n",
       "| cells | list | The code cells to execute. |\n",
       "| **Returns** | **tuple** |  |"
      ],
      "text/plain": [
       "---\n",
       "\n",
       "[source](https://github.com/tongyx361/execode/blob/main/execode/core.py#LNone){target=\"_blank\" style=\"float:right; font-size:smaller\"}\n",
       "\n",
       "### exec_cells\n",
       "\n",
       ">      exec_cells (cells:list[str])\n",
       "\n",
       "*Execute the code cells like a notebook and return the stdout and stderr of the last cell.\n",
       "Modified from\n",
       "- https://github.com/Kipok/NeMo-Skills/blob/6a909ec0974340b02a1083dce90e79bea30ecb60/nemo_skills/code_execution/sandbox.py#L168-L233\n",
       "- https://github.com/deepseek-ai/DeepSeek-Math/blob/b8b0f8ce093d80bf8e9a641e44142f06d092c305/evaluation/infer/run_tool_integrated_eval.py#L163-L180*\n",
       "\n",
       "|    | **Type** | **Details** |\n",
       "| -- | -------- | ----------- |\n",
       "| cells | list | The code cells to execute. |\n",
       "| **Returns** | **tuple** |  |"
      ]
     },
     "execution_count": null,
     "metadata": {},
     "output_type": "execute_result"
    }
   ],
   "source": [
    "show_doc(exec_cells, title_level=3)"
   ]
  }
 ],
 "metadata": {
  "kernelspec": {
   "display_name": "python3",
   "language": "python",
   "name": "python3"
  }
 },
 "nbformat": 4,
 "nbformat_minor": 2
}
